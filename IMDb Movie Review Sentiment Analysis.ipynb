{
 "cells": [
  {
   "cell_type": "markdown",
   "id": "3016d239-4289-4813-be96-c2452c9d7fd0",
   "metadata": {},
   "source": [
    "# Part A: IMDb Movie Review Sentiment Analysis"
   ]
  },
  {
   "cell_type": "code",
   "execution_count": 1,
   "id": "00ba59d8-22b6-4299-9f2d-cbb83e7052ba",
   "metadata": {},
   "outputs": [
    {
     "name": "stderr",
     "output_type": "stream",
     "text": [
      "[nltk_data] Downloading package punkt to\n",
      "[nltk_data]     C:\\Users\\hp\\AppData\\Roaming\\nltk_data...\n",
      "[nltk_data]   Package punkt is already up-to-date!\n",
      "[nltk_data] Downloading package punkt_tab to\n",
      "[nltk_data]     C:\\Users\\hp\\AppData\\Roaming\\nltk_data...\n",
      "[nltk_data]   Package punkt_tab is already up-to-date!\n",
      "[nltk_data] Downloading package stopwords to\n",
      "[nltk_data]     C:\\Users\\hp\\AppData\\Roaming\\nltk_data...\n",
      "[nltk_data]   Package stopwords is already up-to-date!\n"
     ]
    },
    {
     "data": {
      "text/plain": [
       "True"
      ]
     },
     "execution_count": 1,
     "metadata": {},
     "output_type": "execute_result"
    }
   ],
   "source": [
    "import pandas as pd\n",
    "import numpy as np\n",
    "import seaborn as sns\n",
    "import matplotlib.pyplot as plt\n",
    "import re\n",
    "from collections import Counter\n",
    "import nltk #natural language toolkit\n",
    "from nltk.tokenize import word_tokenize\n",
    "from nltk.tokenize import sent_tokenize\n",
    "from nltk.corpus import stopwords\n",
    "from nltk.stem import WordNetLemmatizer\n",
    "from nltk.stem import PorterStemmer\n",
    "from sklearn.feature_extraction.text import CountVectorizer\n",
    "from sklearn.feature_extraction.text import TfidfVectorizer\n",
    "import gensim\n",
    "from gensim.models import Word2Vec\n",
    "nltk.download('punkt')\n",
    "nltk.download('punkt_tab')\n",
    "nltk.download('stopwords')"
   ]
  },
  {
   "cell_type": "code",
   "execution_count": 2,
   "id": "71458f5a-2617-456f-b8d9-503b2e6bbb00",
   "metadata": {},
   "outputs": [
    {
     "data": {
      "text/html": [
       "<div>\n",
       "<style scoped>\n",
       "    .dataframe tbody tr th:only-of-type {\n",
       "        vertical-align: middle;\n",
       "    }\n",
       "\n",
       "    .dataframe tbody tr th {\n",
       "        vertical-align: top;\n",
       "    }\n",
       "\n",
       "    .dataframe thead th {\n",
       "        text-align: right;\n",
       "    }\n",
       "</style>\n",
       "<table border=\"1\" class=\"dataframe\">\n",
       "  <thead>\n",
       "    <tr style=\"text-align: right;\">\n",
       "      <th></th>\n",
       "      <th>review</th>\n",
       "      <th>sentiment</th>\n",
       "    </tr>\n",
       "  </thead>\n",
       "  <tbody>\n",
       "    <tr>\n",
       "      <th>0</th>\n",
       "      <td>One of the other reviewers has mentioned that ...</td>\n",
       "      <td>positive</td>\n",
       "    </tr>\n",
       "    <tr>\n",
       "      <th>1</th>\n",
       "      <td>A wonderful little production. &lt;br /&gt;&lt;br /&gt;The...</td>\n",
       "      <td>positive</td>\n",
       "    </tr>\n",
       "    <tr>\n",
       "      <th>2</th>\n",
       "      <td>I thought this was a wonderful way to spend ti...</td>\n",
       "      <td>positive</td>\n",
       "    </tr>\n",
       "    <tr>\n",
       "      <th>3</th>\n",
       "      <td>Basically there's a family where a little boy ...</td>\n",
       "      <td>negative</td>\n",
       "    </tr>\n",
       "    <tr>\n",
       "      <th>4</th>\n",
       "      <td>Petter Mattei's \"Love in the Time of Money\" is...</td>\n",
       "      <td>positive</td>\n",
       "    </tr>\n",
       "  </tbody>\n",
       "</table>\n",
       "</div>"
      ],
      "text/plain": [
       "                                              review sentiment\n",
       "0  One of the other reviewers has mentioned that ...  positive\n",
       "1  A wonderful little production. <br /><br />The...  positive\n",
       "2  I thought this was a wonderful way to spend ti...  positive\n",
       "3  Basically there's a family where a little boy ...  negative\n",
       "4  Petter Mattei's \"Love in the Time of Money\" is...  positive"
      ]
     },
     "execution_count": 2,
     "metadata": {},
     "output_type": "execute_result"
    }
   ],
   "source": [
    "df = pd.read_csv('Imdb - data_imdb.csv')\n",
    "df.head()"
   ]
  },
  {
   "cell_type": "code",
   "execution_count": 3,
   "id": "e7058f08-23b5-4c71-bba7-49bc1eefe5e6",
   "metadata": {},
   "outputs": [
    {
     "name": "stdout",
     "output_type": "stream",
     "text": [
      "<class 'pandas.core.frame.DataFrame'>\n",
      "RangeIndex: 50000 entries, 0 to 49999\n",
      "Data columns (total 2 columns):\n",
      " #   Column     Non-Null Count  Dtype \n",
      "---  ------     --------------  ----- \n",
      " 0   review     50000 non-null  object\n",
      " 1   sentiment  50000 non-null  object\n",
      "dtypes: object(2)\n",
      "memory usage: 781.4+ KB\n"
     ]
    }
   ],
   "source": [
    "df.info()"
   ]
  },
  {
   "cell_type": "markdown",
   "id": "4e643514-127f-4012-b0d6-0f42be634887",
   "metadata": {},
   "source": [
    "# 1. Data Exploration and Preprocessing"
   ]
  },
  {
   "cell_type": "markdown",
   "id": "7560a839-bd84-484c-aee6-f0c7870dd38a",
   "metadata": {},
   "source": [
    "● Analyze the dataset for trends, missing values, and outliers."
   ]
  },
  {
   "cell_type": "code",
   "execution_count": 4,
   "id": "26a093ac-f9be-4abd-97c1-144270bb61fc",
   "metadata": {},
   "outputs": [
    {
     "name": "stdout",
     "output_type": "stream",
     "text": [
      "Total number of rows: 50000\n",
      "Unique senitment count: 2\n",
      "Unique sentiment : ['positive' 'negative']\n"
     ]
    }
   ],
   "source": [
    "# Print total number of rows and count of unique labels\n",
    "# Explanation: This gives us an idea of dataset size and the number of classes to predict.\n",
    "print(f\"Total number of rows: {df.shape[0]}\")\n",
    "print(f\"Unique senitment count: {df['sentiment'].nunique()}\")\n",
    "print(f\"Unique sentiment : {df['sentiment'].unique()}\")"
   ]
  },
  {
   "cell_type": "code",
   "execution_count": 5,
   "id": "bca3ce20-35f3-4df8-a64c-2ddba62ac5b2",
   "metadata": {},
   "outputs": [
    {
     "name": "stdout",
     "output_type": "stream",
     "text": [
      "Missing values in each column:\n",
      "review       0\n",
      "sentiment    0\n",
      "dtype: int64\n",
      "Number of duplicate rows: 419\n",
      "\n",
      "Review length statistics:\n",
      "count    50000.000000\n",
      "mean      1309.367720\n",
      "std        989.759532\n",
      "min          7.000000\n",
      "25%        699.000000\n",
      "50%        970.000000\n",
      "75%       1590.000000\n",
      "max      13704.000000\n",
      "Name: review_length, dtype: float64\n",
      "\n",
      "Class distribution:\n",
      "sentiment\n",
      "positive    25000\n",
      "negative    25000\n",
      "Name: count, dtype: int64\n"
     ]
    }
   ],
   "source": [
    "# Checking for missing values\n",
    "# Explanation: Missing data might need handling before proceeding.\n",
    "print(\"Missing values in each column:\")\n",
    "print(df.isnull().sum())\n",
    "\n",
    "# Checking for duplicate rows\n",
    "# Explanation: Duplicate data can bias the model, so it's important to detect.\n",
    "duplicate_count = df.duplicated().sum()\n",
    "print(f\"Number of duplicate rows: {duplicate_count}\")\n",
    "\n",
    "# Checking review length distribution\n",
    "# Explanation: Understanding the review length helps guide preprocessing.\n",
    "df['review_length'] = df['review'].apply(len)\n",
    "print(\"\\nReview length statistics:\")\n",
    "print(df['review_length'].describe())\n",
    "\n",
    "# Checking class distribution\n",
    "# Explanation: Ensuring a balanced dataset is important for training.\n",
    "print(\"\\nClass distribution:\")\n",
    "print(df['sentiment'].value_counts())"
   ]
  },
  {
   "cell_type": "markdown",
   "id": "18d79786-b739-4e52-991d-a5c1e14b0130",
   "metadata": {},
   "source": [
    "● Perform data cleaning and text preprocessing."
   ]
  },
  {
   "cell_type": "markdown",
   "id": "8a06794f-f879-4773-b47a-2a7fe736c1f5",
   "metadata": {},
   "source": [
    "▪ Removing stop words, punctuation, and special characters\n",
    "\n",
    "▪ Tokenization of text (splitting text into words).\n",
    "\n",
    "▪ Lemmatization and stemming.\n",
    "\n",
    "▪ Vectorization using techniques like Bag-of-Words and TF-IDF"
   ]
  },
  {
   "cell_type": "code",
   "execution_count": 6,
   "id": "ebf5ea6a-8ed7-4884-88db-cf36097070c1",
   "metadata": {},
   "outputs": [],
   "source": [
    "def clean_text(document):\n",
    "    document = document.lower()\n",
    "    document = re.sub(r'[^a-z\\s]', \" \", document)\n",
    "    return document\n",
    "\n",
    "review = df['review']\n",
    "df['clean_review'] = pd.DataFrame([clean_text(doc) for doc in review])"
   ]
  },
  {
   "cell_type": "code",
   "execution_count": 7,
   "id": "e21400e0-30c7-4ec0-9770-3d678a5752af",
   "metadata": {},
   "outputs": [],
   "source": [
    "df['tokenized_text'] = df['clean_review'].apply(word_tokenize)"
   ]
  },
  {
   "cell_type": "code",
   "execution_count": 8,
   "id": "0036a9a5-ee00-4341-a630-5296823d2bd8",
   "metadata": {},
   "outputs": [],
   "source": [
    "tokens = df['tokenized_text']"
   ]
  },
  {
   "cell_type": "code",
   "execution_count": 9,
   "id": "e98dbbdf-1efd-4e27-a469-3d4452757743",
   "metadata": {},
   "outputs": [],
   "source": [
    "stop_words = set(stopwords.words('english'))\n",
    "filtered_reviews = [[word for word in doc_tokens if word not in stop_words] for doc_tokens in tokens]"
   ]
  },
  {
   "cell_type": "code",
   "execution_count": 10,
   "id": "39a52af1-262e-473c-a3a9-ccb68367255d",
   "metadata": {},
   "outputs": [],
   "source": [
    "def stem_lem_tokens(tokens):\n",
    "    stemmer = PorterStemmer()\n",
    "    lemmatizer = WordNetLemmatizer()\n",
    "    return [stemmer.stem(lemmatizer.lemmatize(token)) for token in tokens]\n",
    "\n",
    "stem_lem_corpus = [stem_lem_tokens(tokens) for tokens in filtered_reviews]\n",
    "stem_lem_text = [' '.join(tokens) for tokens in stem_lem_corpus]"
   ]
  },
  {
   "cell_type": "code",
   "execution_count": 20,
   "id": "563de7f9-7815-4f8c-8ffd-4f1b326642e0",
   "metadata": {},
   "outputs": [
    {
     "name": "stdout",
     "output_type": "stream",
     "text": [
      "\n",
      "Sample Review Before Cleaning:\n",
      "One of the other reviewers has mentioned that after watching just 1 Oz episode you'll be hooked. They are right, as this is exactly what happened with me.<br /><br />The first thing that struck me about Oz was its brutality and unflinching scenes of violence, which set in right from the word GO. Trust me, this is not a show for the faint hearted or timid. This show pulls no punches with regards to drugs, sex or violence. Its is hardcore, in the classic use of the word.<br /><br />It is called OZ as that is the nickname given to the Oswald Maximum Security State Penitentary. It focuses mainly on Emerald City, an experimental section of the prison where all the cells have glass fronts and face inwards, so privacy is not high on the agenda. Em City is home to many..Aryans, Muslims, gangstas, Latinos, Christians, Italians, Irish and more....so scuffles, death stares, dodgy dealings and shady agreements are never far away.<br /><br />I would say the main appeal of the show is due to the fact that it goes where other shows wouldn't dare. Forget pretty pictures painted for mainstream audiences, forget charm, forget romance...OZ doesn't mess around. The first episode I ever saw struck me as so nasty it was surreal, I couldn't say I was ready for it, but as I watched more, I developed a taste for Oz, and got accustomed to the high levels of graphic violence. Not just violence, but injustice (crooked guards who'll be sold out for a nickel, inmates who'll kill on order and get away with it, well mannered, middle class inmates being turned into prison bitches due to their lack of street skills or prison experience) Watching Oz, you may become comfortable with what is uncomfortable viewing....thats if you can get in touch with your darker side.\n",
      "\n",
      "Sample Review After Cleaning:\n",
      "one review mention watch oz episod hook right exactli happen br br first thing struck oz brutal unflinch scene violenc set right word go trust show faint heart timid show pull punch regard drug sex violenc hardcor classic use word br br call oz nicknam given oswald maximum secur state penitentari focu mainli emerald citi experiment section prison cell glass front face inward privaci high agenda em citi home mani aryan muslim gangsta latino christian italian irish scuffl death stare dodgi deal shadi agreement never far away br br would say main appeal show due fact go show dare forget pretti pictur paint mainstream audienc forget charm forget romanc oz mess around first episod ever saw struck nasti surreal say readi watch develop tast oz got accustom high level graphic violenc violenc injustic crook guard sold nickel inmat kill order get away well manner middl class inmat turn prison bitch due lack street skill prison experi watch oz may becom comfort uncomfort view that get touch darker side\n"
     ]
    }
   ],
   "source": [
    "# Sample before and after cleaning\n",
    "print(\"\\nSample Review Before Cleaning:\")\n",
    "print(df['review'].iloc[0])\n",
    "print(\"\\nSample Review After Cleaning:\")\n",
    "print(df['stem_lem_text'].iloc[0])"
   ]
  },
  {
   "cell_type": "code",
   "execution_count": 22,
   "id": "c26cc178-6ee6-41fa-9cb5-37b957a6fdd8",
   "metadata": {},
   "outputs": [
    {
     "name": "stdout",
     "output_type": "stream",
     "text": [
      "\n",
      "BoW Matrix Shape: (50000, 68800)\n",
      "\n",
      "Sample BoW Features:\n",
      "['aa' 'aaa' 'aaaaaaaaaaaahhhhhhhhhhhhhh' 'aaaaaaaargh' 'aaaaaaah'\n",
      " 'aaaaaaahhhhhhggg' 'aaaaagh' 'aaaaah' 'aaaaahhhh' 'aaaaargh'\n",
      " 'aaaaarrrrrrgggggghhhhhh' 'aaaaatch' 'aaaaaw' 'aaaahhhhhh' 'aaaahhhhhhh'\n",
      " 'aaaand' 'aaaarrgh' 'aaaawwwwww' 'aaaggghhhhhhh' 'aaagh' 'aaah'\n",
      " 'aaahhhhhhh' 'aaall' 'aaam' 'aaand' 'aaargh' 'aaarrrgh' 'aaaugh'\n",
      " 'aaawwwwnnn' 'aab' 'aachen' 'aada' 'aadha' 'aag' 'aagh' 'aaghh' 'aah'\n",
      " 'aahhh' 'aahhhh' 'aaila' 'aailiyah' 'aaip' 'aaja' 'aajala' 'aak' 'aakash'\n",
      " 'aaker' 'aakrosh' 'aalcc' 'aaliyah']\n"
     ]
    }
   ],
   "source": [
    "vectorizer = CountVectorizer()\n",
    "x_bow = vectorizer.fit_transform(stem_lem_text)\n",
    "\n",
    "print(\"\\nBoW Matrix Shape:\", x_bow.shape)\n",
    "# Preview sample BoW features\n",
    "print(\"\\nSample BoW Features:\")\n",
    "print(vectorizer.get_feature_names_out()[:50])"
   ]
  },
  {
   "cell_type": "markdown",
   "id": "93bf976e-a032-4a32-b672-68bc4141a837",
   "metadata": {},
   "source": [
    "# 2. Feature Engineering"
   ]
  },
  {
   "cell_type": "markdown",
   "id": "ca50ebfb-83ab-4c07-b389-c919d6281603",
   "metadata": {},
   "source": [
    "● Feature extraction using techniques like TF-IDF, Word2Vec, or embeddings.\n",
    "             \n",
    "             o Transform the textual data into numerical features that can be used by machine learning models.\n",
    "\n",
    "● Textual features: Word count, character count, average word length, etc."
   ]
  },
  {
   "cell_type": "code",
   "execution_count": 23,
   "id": "a488b949-9229-4e52-b830-bcb224cb99b4",
   "metadata": {},
   "outputs": [
    {
     "name": "stdout",
     "output_type": "stream",
     "text": [
      "   aaron  abandon  abc  abduct  abil  abl  aboard  abomin  abort  abound  ...  \\\n",
      "0    0.0      0.0  0.0     0.0   0.0  0.0     0.0     0.0    0.0     0.0  ...   \n",
      "1    0.0      0.0  0.0     0.0   0.0  0.0     0.0     0.0    0.0     0.0  ...   \n",
      "2    0.0      0.0  0.0     0.0   0.0  0.0     0.0     0.0    0.0     0.0  ...   \n",
      "3    0.0      0.0  0.0     0.0   0.0  0.0     0.0     0.0    0.0     0.0  ...   \n",
      "4    0.0      0.0  0.0     0.0   0.0  0.0     0.0     0.0    0.0     0.0  ...   \n",
      "\n",
      "      young  younger  youngest  youngster  youth  youtub  zero     zombi  \\\n",
      "0  0.000000      0.0       0.0        0.0    0.0     0.0   0.0  0.000000   \n",
      "1  0.000000      0.0       0.0        0.0    0.0     0.0   0.0  0.000000   \n",
      "2  0.077664      0.0       0.0        0.0    0.0     0.0   0.0  0.000000   \n",
      "3  0.000000      0.0       0.0        0.0    0.0     0.0   0.0  0.219563   \n",
      "4  0.000000      0.0       0.0        0.0    0.0     0.0   0.0  0.000000   \n",
      "\n",
      "   zone  zoom  \n",
      "0   0.0   0.0  \n",
      "1   0.0   0.0  \n",
      "2   0.0   0.0  \n",
      "3   0.0   0.0  \n",
      "4   0.0   0.0  \n",
      "\n",
      "[5 rows x 5000 columns]\n",
      "\n",
      "TF-IDF Matrix Shape: (50000, 5000)\n",
      "\n",
      "Sample TF-IDF Features:\n",
      "['aaron' 'abandon' 'abc' 'abduct' 'abil' 'abl' 'aboard' 'abomin' 'abort'\n",
      " 'abound' 'abraham' 'abrupt' 'abruptli' 'absenc' 'absent' 'absolut'\n",
      " 'absorb' 'abstract' 'absurd' 'abund' 'abus' 'abysm' 'academi' 'accent'\n",
      " 'accept' 'access' 'accid' 'accident' 'acclaim' 'accompani' 'accomplish'\n",
      " 'accord' 'account' 'accur' 'accuraci' 'accus' 'ace' 'achiev' 'acid'\n",
      " 'acknowledg' 'acquaint' 'acquir' 'across' 'act' 'action' 'activ' 'actor'\n",
      " 'actress' 'actual' 'ad']\n"
     ]
    }
   ],
   "source": [
    "# Creating TF-IDF Model\n",
    "tfidf_vectorizer = TfidfVectorizer(max_features=5000)  # Limit to 5000 features\n",
    "x_tfidf = tfidf_vectorizer.fit_transform(stem_lem_text)\n",
    "tfidf_df = pd.DataFrame(x_tfidf.toarray(), columns=tfidf_vectorizer.get_feature_names_out())\n",
    "# Display sample TF-IDF features\n",
    "print(tfidf_df.head())\n",
    "\n",
    "print(\"\\nTF-IDF Matrix Shape:\", x_tfidf.shape)\n",
    "\n",
    "# Preview sample TF-IDF features\n",
    "print(\"\\nSample TF-IDF Features:\")\n",
    "print(tfidf_vectorizer.get_feature_names_out()[:50])"
   ]
  },
  {
   "cell_type": "code",
   "execution_count": 24,
   "id": "455fa9a9-6641-46fb-b376-3f22c6353c3e",
   "metadata": {},
   "outputs": [],
   "source": [
    "# Train a Word2Vec Model\n",
    "model = Word2Vec(sentences = stem_lem_text, vector_size = 100, window = 5, min_count = 2, sg = 0)"
   ]
  },
  {
   "cell_type": "code",
   "execution_count": 25,
   "id": "fdf30953-0e13-4afb-9a21-5c728346c935",
   "metadata": {},
   "outputs": [],
   "source": [
    "# compute sentence embedding\n",
    "embeddings = []\n",
    "\n",
    "for sentence in stem_lem_text:\n",
    "    # Get the embeddings for all words in sentence\n",
    "    word_embeddings = [model.wv[word] for word in sentence if word in model.wv]\n",
    "\n",
    "# compute sentence embedding by averaging word embeddings \n",
    "if word_embeddings:\n",
    "    sentence_embedding = np.mean(word_embeddings, axis=0)\n",
    "else:\n",
    "    sentence_embedding = np.zeros(model.vector_size)\n",
    "\n",
    "embeddings.append(sentence_embedding)                            "
   ]
  },
  {
   "cell_type": "markdown",
   "id": "ff1c39ed-ef9f-4d19-8419-5d231e848a72",
   "metadata": {},
   "source": [
    "Features"
   ]
  },
  {
   "cell_type": "code",
   "execution_count": 18,
   "id": "e624f3d0-f78b-4841-9226-ce6b412bc2c8",
   "metadata": {},
   "outputs": [],
   "source": [
    "df['stem_lem_text'] = stem_lem_text"
   ]
  },
  {
   "cell_type": "code",
   "execution_count": 26,
   "id": "785a65ae-1f33-4b85-b313-abe1b3acf6c7",
   "metadata": {},
   "outputs": [
    {
     "data": {
      "text/html": [
       "<div>\n",
       "<style scoped>\n",
       "    .dataframe tbody tr th:only-of-type {\n",
       "        vertical-align: middle;\n",
       "    }\n",
       "\n",
       "    .dataframe tbody tr th {\n",
       "        vertical-align: top;\n",
       "    }\n",
       "\n",
       "    .dataframe thead th {\n",
       "        text-align: right;\n",
       "    }\n",
       "</style>\n",
       "<table border=\"1\" class=\"dataframe\">\n",
       "  <thead>\n",
       "    <tr style=\"text-align: right;\">\n",
       "      <th></th>\n",
       "      <th>stem_lem_text</th>\n",
       "      <th>word_count</th>\n",
       "      <th>char_count</th>\n",
       "      <th>avg_word_length</th>\n",
       "    </tr>\n",
       "  </thead>\n",
       "  <tbody>\n",
       "    <tr>\n",
       "      <th>0</th>\n",
       "      <td>one review mention watch oz episod hook right ...</td>\n",
       "      <td>168</td>\n",
       "      <td>1006</td>\n",
       "      <td>5.988095</td>\n",
       "    </tr>\n",
       "    <tr>\n",
       "      <th>1</th>\n",
       "      <td>wonder littl product br br film techniqu unass...</td>\n",
       "      <td>92</td>\n",
       "      <td>585</td>\n",
       "      <td>6.358696</td>\n",
       "    </tr>\n",
       "    <tr>\n",
       "      <th>2</th>\n",
       "      <td>thought wonder way spend time hot summer weeke...</td>\n",
       "      <td>88</td>\n",
       "      <td>530</td>\n",
       "      <td>6.022727</td>\n",
       "    </tr>\n",
       "    <tr>\n",
       "      <th>3</th>\n",
       "      <td>basic famili littl boy jake think zombi closet...</td>\n",
       "      <td>70</td>\n",
       "      <td>406</td>\n",
       "      <td>5.800000</td>\n",
       "    </tr>\n",
       "    <tr>\n",
       "      <th>4</th>\n",
       "      <td>petter mattei love time money visual stun film...</td>\n",
       "      <td>133</td>\n",
       "      <td>782</td>\n",
       "      <td>5.879699</td>\n",
       "    </tr>\n",
       "  </tbody>\n",
       "</table>\n",
       "</div>"
      ],
      "text/plain": [
       "                                       stem_lem_text  word_count  char_count  \\\n",
       "0  one review mention watch oz episod hook right ...         168        1006   \n",
       "1  wonder littl product br br film techniqu unass...          92         585   \n",
       "2  thought wonder way spend time hot summer weeke...          88         530   \n",
       "3  basic famili littl boy jake think zombi closet...          70         406   \n",
       "4  petter mattei love time money visual stun film...         133         782   \n",
       "\n",
       "   avg_word_length  \n",
       "0         5.988095  \n",
       "1         6.358696  \n",
       "2         6.022727  \n",
       "3         5.800000  \n",
       "4         5.879699  "
      ]
     },
     "execution_count": 26,
     "metadata": {},
     "output_type": "execute_result"
    }
   ],
   "source": [
    "# Word count (number of words in a review)\n",
    "df['word_count'] = df['stem_lem_text'].apply(lambda x: len(str(x).split()))\n",
    "\n",
    "# Character count (total number of characters in a review)\n",
    "df['char_count'] = df['stem_lem_text'].apply(lambda x: len(str(x)))\n",
    "\n",
    "# Average word length (ratio of character count to word count)\n",
    "df['avg_word_length'] = df['char_count'] / df['word_count']\n",
    "\n",
    "\n",
    "df[['stem_lem_text', 'word_count', 'char_count', 'avg_word_length']].head()"
   ]
  },
  {
   "cell_type": "markdown",
   "id": "9fba8e4d-fa1a-4330-80b2-4ee480133ce9",
   "metadata": {},
   "source": [
    " # 3. Model Development\n",
    " # 4. Model Evaluation \n",
    " \n",
    "Build and train classification models to predict the sentiment of reviews"
   ]
  },
  {
   "cell_type": "code",
   "execution_count": 27,
   "id": "e56b9b3d-efa5-4dd0-a557-d7d2c97e9f6e",
   "metadata": {},
   "outputs": [
    {
     "name": "stdout",
     "output_type": "stream",
     "text": [
      "Data prepared successfully!\n"
     ]
    }
   ],
   "source": [
    "from sklearn.model_selection import train_test_split\n",
    "from sklearn.naive_bayes import MultinomialNB\n",
    "from sklearn.linear_model import LogisticRegression\n",
    "from sklearn.svm import SVC\n",
    "from sklearn.ensemble import RandomForestClassifier\n",
    "from sklearn.metrics import accuracy_score, f1_score, roc_auc_score, classification_report, confusion_matrix\n",
    "\n",
    "# Convert sentiment labels into binary values (1 for positive, 0 for negative)\n",
    "df['sentiment'] = df['sentiment'].map({'positive':1, 'negative':0})\n",
    "\n",
    "# TF-IDF Vectorization\n",
    "vectorizer = TfidfVectorizer(max_features=5000)  # Limiting to 5000 features\n",
    "X = vectorizer.fit_transform(df['stem_lem_text'])\n",
    "y = df['sentiment']\n",
    "\n",
    "# Splitting data into training (80%) and testing (20%) sets\n",
    "X_train, X_test, y_train, y_test = train_test_split(X, y, test_size=0.2, random_state=42)\n",
    "print(\"Data prepared successfully!\")"
   ]
  },
  {
   "cell_type": "code",
   "execution_count": 28,
   "id": "5eeee741-13b4-493a-a2ea-9a567873d6bf",
   "metadata": {},
   "outputs": [
    {
     "name": "stdout",
     "output_type": "stream",
     "text": [
      "Naive Bayes Performance:\n",
      "Accuracy: 0.851\n",
      "F1-score: 0.8530861762965884\n",
      "ROC-AUC: 0.8509410112511244\n",
      "              precision    recall  f1-score   support\n",
      "\n",
      "           0       0.85      0.84      0.85      4961\n",
      "           1       0.85      0.86      0.85      5039\n",
      "\n",
      "    accuracy                           0.85     10000\n",
      "   macro avg       0.85      0.85      0.85     10000\n",
      "weighted avg       0.85      0.85      0.85     10000\n",
      "\n"
     ]
    }
   ],
   "source": [
    "nb_model = MultinomialNB()\n",
    "nb_model.fit(X_train, y_train)\n",
    "y_pred_nb = nb_model.predict(X_test)\n",
    "\n",
    "# Evaluate Model\n",
    "print(\"Naive Bayes Performance:\")\n",
    "print(\"Accuracy:\", accuracy_score(y_test, y_pred_nb))\n",
    "print(\"F1-score:\", f1_score(y_test, y_pred_nb))\n",
    "print(\"ROC-AUC:\", roc_auc_score(y_test, y_pred_nb))\n",
    "print(classification_report(y_test, y_pred_nb))"
   ]
  },
  {
   "cell_type": "code",
   "execution_count": 29,
   "id": "ad35b2da-9f7c-47be-a18d-7ee677422e81",
   "metadata": {},
   "outputs": [
    {
     "name": "stdout",
     "output_type": "stream",
     "text": [
      "Logistic Regression Performance:\n",
      "Accuracy: 0.8861\n",
      "F1-score: 0.8884317758840239\n",
      "ROC-AUC: 0.8859908836853634\n",
      "              precision    recall  f1-score   support\n",
      "\n",
      "           0       0.90      0.87      0.88      4961\n",
      "           1       0.88      0.90      0.89      5039\n",
      "\n",
      "    accuracy                           0.89     10000\n",
      "   macro avg       0.89      0.89      0.89     10000\n",
      "weighted avg       0.89      0.89      0.89     10000\n",
      "\n"
     ]
    }
   ],
   "source": [
    "lr_model = LogisticRegression(max_iter=200)\n",
    "lr_model.fit(X_train, y_train)\n",
    "y_pred_lr = lr_model.predict(X_test)\n",
    "\n",
    "# Evaluate Model\n",
    "print(\"Logistic Regression Performance:\")\n",
    "print(\"Accuracy:\", accuracy_score(y_test, y_pred_lr))\n",
    "print(\"F1-score:\", f1_score(y_test, y_pred_lr))\n",
    "print(\"ROC-AUC:\", roc_auc_score(y_test, y_pred_lr))\n",
    "print(classification_report(y_test, y_pred_lr))"
   ]
  },
  {
   "cell_type": "code",
   "execution_count": 30,
   "id": "787759c5-5f1f-484d-92f5-4ad0002d9e9f",
   "metadata": {},
   "outputs": [
    {
     "name": "stdout",
     "output_type": "stream",
     "text": [
      "SVM Performance:\n",
      "Accuracy: 0.8812\n",
      "F1-score: 0.8834379905808477\n",
      "ROC-AUC: 0.8811038463580124\n",
      "              precision    recall  f1-score   support\n",
      "\n",
      "           0       0.89      0.87      0.88      4961\n",
      "           1       0.87      0.89      0.88      5039\n",
      "\n",
      "    accuracy                           0.88     10000\n",
      "   macro avg       0.88      0.88      0.88     10000\n",
      "weighted avg       0.88      0.88      0.88     10000\n",
      "\n"
     ]
    }
   ],
   "source": [
    "from sklearn.svm import LinearSVC\n",
    "svm_model = LinearSVC(max_iter=10000)\n",
    "svm_model.fit(X_train, y_train)\n",
    "y_pred_svm = svm_model.predict(X_test)\n",
    "\n",
    "# Evaluate Model\n",
    "print(\"SVM Performance:\")\n",
    "print(\"Accuracy:\", accuracy_score(y_test, y_pred_svm))\n",
    "print(\"F1-score:\", f1_score(y_test, y_pred_svm))\n",
    "print(\"ROC-AUC:\", roc_auc_score(y_test, y_pred_svm))\n",
    "print(classification_report(y_test, y_pred_svm))"
   ]
  },
  {
   "cell_type": "code",
   "execution_count": 31,
   "id": "e38aeea5-ccbc-4a9a-98f2-700213ad4cac",
   "metadata": {},
   "outputs": [
    {
     "name": "stdout",
     "output_type": "stream",
     "text": [
      "Random Forest Performance:\n",
      "Accuracy: 0.8508\n",
      "F1-score: 0.8506506506506506\n",
      "ROC-AUC: 0.8508595662960134\n",
      "              precision    recall  f1-score   support\n",
      "\n",
      "           0       0.84      0.86      0.85      4961\n",
      "           1       0.86      0.84      0.85      5039\n",
      "\n",
      "    accuracy                           0.85     10000\n",
      "   macro avg       0.85      0.85      0.85     10000\n",
      "weighted avg       0.85      0.85      0.85     10000\n",
      "\n"
     ]
    }
   ],
   "source": [
    "rf_model = RandomForestClassifier(n_estimators=100)\n",
    "rf_model.fit(X_train, y_train)\n",
    "y_pred_rf = rf_model.predict(X_test)\n",
    "\n",
    "# Evaluate Model\n",
    "print(\"Random Forest Performance:\")\n",
    "print(\"Accuracy:\", accuracy_score(y_test, y_pred_rf))\n",
    "print(\"F1-score:\", f1_score(y_test, y_pred_rf))\n",
    "print(\"ROC-AUC:\", roc_auc_score(y_test, y_pred_rf))\n",
    "print(classification_report(y_test, y_pred_rf))"
   ]
  },
  {
   "cell_type": "code",
   "execution_count": 32,
   "id": "3c9bfdd8-d072-466c-80f9-4c065789f25e",
   "metadata": {},
   "outputs": [
    {
     "name": "stdout",
     "output_type": "stream",
     "text": [
      "                 Model  Accuracy  F1-score   ROC-AUC\n",
      "0          Naive Bayes    0.8510  0.853086  0.850941\n",
      "1  Logistic Regression    0.8861  0.888432  0.885991\n",
      "2                  SVM    0.8812  0.883438  0.881104\n",
      "3        Random Forest    0.8508  0.850651  0.850860\n"
     ]
    },
    {
     "data": {
      "image/png": "[encoded data removed]",
      "text/plain": [
       "<Figure size 640x480 with 1 Axes>"
      ]
     },
     "metadata": {},
     "output_type": "display_data"
    }
   ],
   "source": [
    "# Collect results\n",
    "model_results = pd.DataFrame({\n",
    "    \"Model\": [\"Naive Bayes\", \"Logistic Regression\", \"SVM\", \"Random Forest\"],\n",
    "    \"Accuracy\": [accuracy_score(y_test, y_pred_nb), accuracy_score(y_test, y_pred_lr), accuracy_score(y_test, y_pred_svm), accuracy_score(y_test, y_pred_rf)],\n",
    "    \"F1-score\": [f1_score(y_test, y_pred_nb), f1_score(y_test, y_pred_lr), f1_score(y_test, y_pred_svm), f1_score(y_test, y_pred_rf)],\n",
    "    \"ROC-AUC\": [roc_auc_score(y_test, y_pred_nb), roc_auc_score(y_test, y_pred_lr), roc_auc_score(y_test, y_pred_svm), roc_auc_score(y_test, y_pred_rf)]\n",
    "})\n",
    "\n",
    "# Display results\n",
    "print(model_results)\n",
    "\n",
    "# Plot results\n",
    "sns.barplot(x=\"Model\", y=\"Accuracy\", data=model_results)\n",
    "plt.title(\"Model Comparison - Accuracy\")\n",
    "plt.show()\n"
   ]
  },
  {
   "cell_type": "code",
   "execution_count": 33,
   "id": "8f827a3a-9ff6-4a39-bf9f-c165980f4b17",
   "metadata": {},
   "outputs": [
    {
     "data": {
      "image/png": "[encoded data removed]",
      "text/plain": [
       "<Figure size 640x480 with 2 Axes>"
      ]
     },
     "metadata": {},
     "output_type": "display_data"
    }
   ],
   "source": [
    "# Choose the best model\n",
    "best_model = lr_model\n",
    "y_pred_best = y_pred_lr\n",
    "\n",
    "# Confusion Matrix\n",
    "conf_matrix = confusion_matrix(y_test, y_pred_best)\n",
    "conf_matrix = confusion_matrix(y_test, y_pred_best)\n",
    "sns.heatmap(conf_matrix, annot=True, fmt='d', cmap='Blues')\n",
    "plt.xlabel(\"Predicted\")\n",
    "plt.ylabel(\"Actual\")\n",
    "plt.title(\"Confusion Matrix - Best Model\")\n",
    "plt.show()"
   ]
  },
  {
   "cell_type": "markdown",
   "id": "288e3d34-4ab0-480c-a57f-cd8488e52732",
   "metadata": {},
   "source": [
    " 5. Final Report and Presentation"
   ]
  },
  {
   "cell_type": "markdown",
   "id": "812c8f1e-ecc1-4767-8cec-22eec8eaa3c6",
   "metadata": {},
   "source": [
    "# IMDb Sentiment Analysis - Final Report\n",
    "\n",
    "## 1. Introduction\n",
    "This project aims to analyze IMDb movie reviews and classify them as **positive** or **negative** using **machine learning models**. The goal is to extract meaningful insights from textual data and develop a robust sentiment classification model.\n",
    "\n",
    "## 2. Data Exploration and Preprocessing\n",
    "- Loaded the IMDb dataset.\n",
    "- Performed **data cleaning**:\n",
    "  - Removed missing values.\n",
    "  - Converted text to lowercase.\n",
    "  - Removed special characters, stopwords, and punctuation.\n",
    "  - Used **lemmatization** to normalize words.\n",
    "- Extracted basic textual features:\n",
    "  - Word count\n",
    "  - Character count\n",
    "  - Average word length\n",
    "\n",
    "## 3. Feature Engineering\n",
    "- **TF-IDF (Term Frequency-Inverse Document Frequency)**: Converted text into numerical vectors.\n",
    "- **Word2Vec**: Generated word embeddings to capture semantic meaning.\n",
    "- **Other textual features**: Word count, character count, and average word length.\n",
    "\n",
    "## 4. Model Development\n",
    "- Built and trained multiple classification models:\n",
    "  - **Logistic Regression**\n",
    "  - **Naive Bayes**\n",
    "  - **Support Vector Machine (SVM)**\n",
    "  - **Random Forest**\n",
    "\n",
    "## 5. Model Evaluation\n",
    "- Evaluated models using:\n",
    "  - **Accuracy**\n",
    "  - **F1-Score**\n",
    "  - **ROC-AUC Curve**\n",
    "- Visualized results using:\n",
    "  - **Confusion matrix** of best model\n",
    "  - **Vertical column (bar) graph** of sentiment distribution\n",
    "  - **Bar chart** of Model Comparison - Accuracy\n",
    "\n",
    "## 6. Key Insights and Success Criteria Evaluation\n",
    "- **Achieved good model performance** based on Accuracy, F1-score, and ROC-AUC.\n",
    "- Identified factors influencing sentiment, such as **word frequency** and **review length**.\n",
    "- Successfully predicted sentiment for new movie reviews.\n",
    "- Presented results with clear **visualizations** (confusion matrices, bar charts).\n",
    "\n",
    "## 7. Conclusion\n",
    "This project successfully analyzed IMDb movie reviews using **NLP techniques** and **machine learning models**. The best-performing model was selected based on evaluation metrics. The findings provide valuable insights into sentiment trends in movie reviews.\n",
    "\n",
    "---\n",
    "\n",
    "### ✅ **Project Success Criteria Met**\n",
    "✔ **Model performance:** Achieved acceptable Accuracy, F1-score, and ROC-AUC.  \n",
    "✔ **Insights extracted:** Word frequency, review length, and sentiment trends identified.  \n",
    "✔ **Predictions:** The model can predict new movie reviews accurately.  \n",
    "✔ **Visualizations:** Used bar charts and confusion matrices.  \n",
    "✔ **Final report and presentation:** Documented all steps and created a summary presentation.  \n"
   ]
  },
  {
   "cell_type": "markdown",
   "id": "5a7aeed9-f420-4d82-a316-14428afc7200",
   "metadata": {},
   "source": [
    "## Presentation\n",
    "A **video presentation** summarizing the key findings and methodology has been created.\n",
    "\n",
    "https://drive.google.com/file/d/1DnL26Pw9VDIIxIiLPfv29SZum_fyHqZd/view?usp=sharing\n"
   ]
  },
  {
   "cell_type": "code",
   "execution_count": null,
   "id": "d08ce99c-bf86-4650-aaf3-5c8a01b6f8a8",
   "metadata": {},
   "outputs": [],
   "source": []
  }
 ],
 "metadata": {
  "kernelspec": {
   "display_name": "Python [conda env:base] *",
   "language": "python",
   "name": "conda-base-py"
  },
  "language_info": {
   "codemirror_mode": {
    "name": "ipython",
    "version": 3
   },
   "file_extension": ".py",
   "mimetype": "text/x-python",
   "name": "python",
   "nbconvert_exporter": "python",
   "pygments_lexer": "ipython3",
   "version": "3.12.7"
  }
 },
 "nbformat": 4,
 "nbformat_minor": 5
}
