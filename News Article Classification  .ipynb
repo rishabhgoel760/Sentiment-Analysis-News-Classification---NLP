{
 "cells": [
  {
   "cell_type": "markdown",
   "id": "9bcdab91-c2f1-4c43-84a9-29f58e4322f4",
   "metadata": {},
   "source": [
    "# 1. Data Collection and Preprocessing"
   ]
  },
  {
   "cell_type": "markdown",
   "id": "56346ad8-b6e6-4fa4-80c6-f3c2bc50808c",
   "metadata": {},
   "source": [
    "● Collect a dataset of labeled news articles (sports, politics, technology etc)."
   ]
  },
  {
   "cell_type": "code",
   "execution_count": 3,
   "id": "336569f2-34b8-4115-a9a4-070ff3892d7a",
   "metadata": {},
   "outputs": [
    {
     "name": "stderr",
     "output_type": "stream",
     "text": [
      "[nltk_data] Downloading package punkt to\n",
      "[nltk_data]     C:\\Users\\hp\\AppData\\Roaming\\nltk_data...\n",
      "[nltk_data]   Package punkt is already up-to-date!\n",
      "[nltk_data] Downloading package stopwords to\n",
      "[nltk_data]     C:\\Users\\hp\\AppData\\Roaming\\nltk_data...\n",
      "[nltk_data]   Package stopwords is already up-to-date!\n",
      "[nltk_data] Downloading package wordnet to\n",
      "[nltk_data]     C:\\Users\\hp\\AppData\\Roaming\\nltk_data...\n",
      "[nltk_data]   Package wordnet is already up-to-date!\n"
     ]
    },
    {
     "data": {
      "text/plain": [
       "True"
      ]
     },
     "execution_count": 3,
     "metadata": {},
     "output_type": "execute_result"
    }
   ],
   "source": [
    "# Import required libraries\n",
    "import pandas as pd\n",
    "import numpy as np\n",
    "import seaborn as sns\n",
    "import matplotlib.pyplot as plt\n",
    "import string \n",
    "import re\n",
    "from sklearn.feature_extraction.text import CountVectorizer, TfidfVectorizer\n",
    "from nltk.corpus import stopwords\n",
    "from nltk.tokenize import word_tokenize\n",
    "import gensim\n",
    "from gensim.models import Word2Vec\n",
    "from nltk.stem import PorterStemmer, WordNetLemmatizer\n",
    "import nltk\n",
    "\n",
    "# Download necessary NLTK resources\n",
    "nltk.download('punkt')\n",
    "nltk.download('stopwords')\n",
    "nltk.download('wordnet')"
   ]
  },
  {
   "cell_type": "code",
   "execution_count": 4,
   "id": "e2948b4d-712c-4d98-a7d0-51a9ab451ec3",
   "metadata": {},
   "outputs": [],
   "source": [
    "df = pd.read_csv('data_news - data_news.csv')"
   ]
  },
  {
   "cell_type": "code",
   "execution_count": 5,
   "id": "c06171f8-2db9-4ee7-9ed9-22422eb6c554",
   "metadata": {},
   "outputs": [
    {
     "name": "stdout",
     "output_type": "stream",
     "text": [
      "Dataset Info:\n",
      "<class 'pandas.core.frame.DataFrame'>\n",
      "RangeIndex: 50000 entries, 0 to 49999\n",
      "Data columns (total 5 columns):\n",
      " #   Column             Non-Null Count  Dtype \n",
      "---  ------             --------------  ----- \n",
      " 0   category           50000 non-null  object\n",
      " 1   headline           50000 non-null  object\n",
      " 2   links              50000 non-null  object\n",
      " 3   short_description  50000 non-null  object\n",
      " 4   keywords           47332 non-null  object\n",
      "dtypes: object(5)\n",
      "memory usage: 1.9+ MB\n",
      "None\n",
      "\n",
      "Sample Data:\n",
      "   category                                           headline  \\\n",
      "0  WELLNESS              143 Miles in 35 Days: Lessons Learned   \n",
      "1  WELLNESS       Talking to Yourself: Crazy or Crazy Helpful?   \n",
      "2  WELLNESS  Crenezumab: Trial Will Gauge Whether Alzheimer...   \n",
      "3  WELLNESS                     Oh, What a Difference She Made   \n",
      "4  WELLNESS                                   Green Superfoods   \n",
      "\n",
      "                                               links  \\\n",
      "0  https://www.huffingtonpost.com/entry/running-l...   \n",
      "1  https://www.huffingtonpost.com/entry/talking-t...   \n",
      "2  https://www.huffingtonpost.com/entry/crenezuma...   \n",
      "3  https://www.huffingtonpost.com/entry/meaningfu...   \n",
      "4  https://www.huffingtonpost.com/entry/green-sup...   \n",
      "\n",
      "                                   short_description  \\\n",
      "0  Resting is part of training. I've confirmed wh...   \n",
      "1  Think of talking to yourself as a tool to coac...   \n",
      "2  The clock is ticking for the United States to ...   \n",
      "3  If you want to be busy, keep trying to be perf...   \n",
      "4  First, the bad news: Soda bread, corned beef a...   \n",
      "\n",
      "                             keywords  \n",
      "0                     running-lessons  \n",
      "1           talking-to-yourself-crazy  \n",
      "2  crenezumab-alzheimers-disease-drug  \n",
      "3                     meaningful-life  \n",
      "4                    green-superfoods  \n",
      "\n",
      "Missing Values:\n",
      "category                0\n",
      "headline                0\n",
      "links                   0\n",
      "short_description       0\n",
      "keywords             2668\n",
      "dtype: int64\n",
      "\n",
      "Class Distribution:\n",
      "category\n",
      "WELLNESS          5000\n",
      "POLITICS          5000\n",
      "ENTERTAINMENT     5000\n",
      "TRAVEL            5000\n",
      "STYLE & BEAUTY    5000\n",
      "PARENTING         5000\n",
      "FOOD & DRINK      5000\n",
      "WORLD NEWS        5000\n",
      "BUSINESS          5000\n",
      "SPORTS            5000\n",
      "Name: count, dtype: int64\n"
     ]
    }
   ],
   "source": [
    "# Check basic info\n",
    "print(\"Dataset Info:\")\n",
    "print(df.info())\n",
    "\n",
    "# Check sample data\n",
    "print(\"\\nSample Data:\")\n",
    "print(df.head())\n",
    "\n",
    "# Check missing values\n",
    "print(\"\\nMissing Values:\")\n",
    "print(df.isnull().sum())\n",
    "\n",
    "# Check class imbalance (positive vs negative)\n",
    "print(\"\\nClass Distribution:\")\n",
    "print(df['category'].value_counts())"
   ]
  },
  {
   "cell_type": "code",
   "execution_count": 6,
   "id": "6731f83c-bb93-4caa-a744-0611eb1652aa",
   "metadata": {},
   "outputs": [
    {
     "name": "stdout",
     "output_type": "stream",
     "text": [
      "\n",
      "Description Length Statistics:\n",
      "count    50000.000000\n",
      "mean        22.981900\n",
      "std         13.590334\n",
      "min          1.000000\n",
      "25%         14.000000\n",
      "50%         21.000000\n",
      "75%         29.000000\n",
      "max        222.000000\n",
      "Name: description_length, dtype: float64\n"
     ]
    },
    {
     "data": {
      "image/png": "[encoded data removed]",
      "text/plain": [
       "<Figure size 1000x500 with 1 Axes>"
      ]
     },
     "metadata": {},
     "output_type": "display_data"
    }
   ],
   "source": [
    "# Analyze description lengths (word count per description)\n",
    "df['description_length'] = df['short_description'].apply(lambda x: len(x.split()))\n",
    "\n",
    "# Review length stats\n",
    "print(\"\\nDescription Length Statistics:\")\n",
    "print(df['description_length'].describe())\n",
    "\n",
    "# Review length distribution plot\n",
    "plt.figure(figsize=(10,5))\n",
    "sns.histplot(df['description_length'], bins=50, kde=True, color='skyblue')\n",
    "plt.title('Description Length Distribution')\n",
    "plt.xlabel('Number of Words')\n",
    "plt.ylabel('Frequency')\n",
    "plt.show()"
   ]
  },
  {
   "cell_type": "markdown",
   "id": "6ac66d34-9f8f-4c62-b12c-9ee5af027ca0",
   "metadata": {},
   "source": [
    "● Clean and preprocess the text data."
   ]
  },
  {
   "cell_type": "code",
   "execution_count": 8,
   "id": "abee68c8-4c64-42b3-bd62-d459dc6e1615",
   "metadata": {},
   "outputs": [],
   "source": [
    "# Initialize tools for preprocessing\n",
    "stop_words = set(stopwords.words('english'))\n",
    "stemmer = PorterStemmer()\n",
    "lemmatizer = WordNetLemmatizer()\n",
    "\n",
    "def preprocess_text(text):\n",
    "\n",
    "    # remove special characters, numbers, and puctuaions in the text\n",
    "    text = re.sub(r'[^a-z\\s]', '', text)\n",
    "\n",
    "    #convert text to lowercase\n",
    "    text = text.lower()\n",
    "    \n",
    "    # tokenization\n",
    "    tokens = word_tokenize(text)\n",
    "    \n",
    "    # Remove stopwords\n",
    "    tokens = [word for word in tokens if word not in stop_words]\n",
    "\n",
    "    # Lemmatization\n",
    "    tokens = [lemmatizer.lemmatize(word) for word in tokens]\n",
    "\n",
    "    # Rejoin words into cleaned text\n",
    "    return ' '.join(tokens)\n",
    "\n",
    "# Apply preprocessing to all reviews\n",
    "df['cleaned_description'] = df['short_description'].apply(preprocess_text)\n",
    "df['cleaned_headline'] = df['headline'].apply(preprocess_text)"
   ]
  },
  {
   "cell_type": "code",
   "execution_count": 9,
   "id": "c83f6fe3-1953-421b-9ba9-109446480daa",
   "metadata": {},
   "outputs": [
    {
     "name": "stdout",
     "output_type": "stream",
     "text": [
      "\n",
      "Sample Description Before Cleaning:\n",
      "Think of talking to yourself as a tool to coach yourself through a challenge, or to narrate your own experiences to yourself. In any case, treat yourself with respect and you just may find you enjoy your own company.\n",
      "\n",
      "Sample Descrption After Cleaning:\n",
      "hink talking tool coach challenge narrate experience n case treat respect may find enjoy company\n",
      "\n",
      "Sample Headline Before Cleaning:\n",
      "Talking to Yourself: Crazy or Crazy Helpful?\n",
      "\n",
      "Sample Review After Cleaning:\n",
      "alking ourself razy razy elpful\n"
     ]
    }
   ],
   "source": [
    "# Sample before and after cleaning\n",
    "print(\"\\nSample Description Before Cleaning:\")\n",
    "print(df['short_description'].iloc[1])\n",
    "print(\"\\nSample Descrption After Cleaning:\")\n",
    "print(df['cleaned_description'].iloc[1])\n",
    "\n",
    "print(\"\\nSample Headline Before Cleaning:\")\n",
    "print(df['headline'].iloc[1])\n",
    "print(\"\\nSample Review After Cleaning:\")\n",
    "print(df['cleaned_headline'].iloc[1])"
   ]
  },
  {
   "cell_type": "markdown",
   "id": "b2b26d33-5a8f-4112-8824-1b0d40128aab",
   "metadata": {},
   "source": [
    "● Handle missing data, if any, and ensure the text is ready for feature extraction."
   ]
  },
  {
   "cell_type": "code",
   "execution_count": 11,
   "id": "fdeca1d3-9395-483c-a943-ceffe36571bc",
   "metadata": {},
   "outputs": [
    {
     "data": {
      "text/plain": [
       "category               0\n",
       "headline               0\n",
       "links                  0\n",
       "short_description      0\n",
       "keywords               0\n",
       "description_length     0\n",
       "cleaned_description    0\n",
       "cleaned_headline       0\n",
       "dtype: int64"
      ]
     },
     "execution_count": 11,
     "metadata": {},
     "output_type": "execute_result"
    }
   ],
   "source": [
    "# Rplacing Blank values with NA (specifically in keywords column)\n",
    "df = df.fillna('NA')\n",
    "\n",
    "#checking the null entries again\n",
    "df.isnull().sum()"
   ]
  },
  {
   "cell_type": "code",
   "execution_count": 12,
   "id": "3a218d4a-4d2f-4456-8e05-ba135ed527f1",
   "metadata": {},
   "outputs": [
    {
     "name": "stdout",
     "output_type": "stream",
     "text": [
      "\n",
      "Sample Keywords Before Cleaning:\n",
      "talking-to-yourself-crazy\n",
      "\n",
      "Sample Review After Cleaning:\n",
      "talking crazy\n"
     ]
    }
   ],
   "source": [
    "def preprocess_keywords(text):\n",
    "\n",
    "    # remove special characters, numbers, and puctuaions in the text\n",
    "    text = re.sub(r'[^a-z\\s-]', '', text)\n",
    "    text = text.replace('-', ' ')\n",
    "\n",
    "    #convert text to lowercase\n",
    "    text = text.lower()\n",
    "    \n",
    "    # tokenization\n",
    "    tokens = word_tokenize(text)\n",
    "    \n",
    "    # Remove stopwords\n",
    "    tokens = [word for word in tokens if word not in stop_words]\n",
    "\n",
    "    # Lemmatization\n",
    "    tokens = [lemmatizer.lemmatize(word) for word in tokens]\n",
    "\n",
    "    # Rejoin words into cleaned text\n",
    "    return ' '.join(tokens)\n",
    "df['cleaned_keywords'] = df['keywords'].apply(preprocess_keywords)\n",
    "\n",
    "print(\"\\nSample Keywords Before Cleaning:\")\n",
    "print(df['keywords'].iloc[1])\n",
    "print(\"\\nSample Review After Cleaning:\")\n",
    "print(df['cleaned_keywords'].iloc[1])"
   ]
  },
  {
   "cell_type": "markdown",
   "id": "335fddda-9e9e-43d4-81bb-5a13fef01895",
   "metadata": {},
   "source": [
    "# 2. Feature Extraction\n",
    "\n",
    "● Use methods like TF-IDF, word embeddings (e.g., Word2Vec, GloVe), or\n",
    "bag-of-words to convert text data into numerical features."
   ]
  },
  {
   "cell_type": "code",
   "execution_count": 14,
   "id": "30d89f60-e16b-445b-a741-5ffe9e853c1a",
   "metadata": {},
   "outputs": [
    {
     "name": "stdout",
     "output_type": "stream",
     "text": [
      "\n",
      "BoW Matrix Shape: (50000, 46564)\n",
      "\n",
      "TF-IDF Matrix Shape: (50000, 46564)\n",
      "\n",
      "Sample BoW Features:\n",
      "['aa' 'aaaaaaaaah' 'aaaaaas' 'aaar' 'aab' 'aack' 'aad' 'aada' 'aadi'\n",
      " 'aafar' 'aak' 'aale' 'aalle' 'aame' 'aan' 'aanapali' 'aanen' 'aanzo'\n",
      " 'aartent' 'aas' 'aash' 'aastricht' 'aatalii' 'ab' 'aba' 'abaa' 'aback'\n",
      " 'abah' 'abak' 'abal' 'aban' 'abana' 'abandon' 'abandoned' 'abandoning'\n",
      " 'abandonment' 'abanga' 'abari' 'abarrus' 'abasco' 'abat' 'abata' 'abate'\n",
      " 'abaya' 'abba' 'abbage' 'abbana' 'abbanas' 'abbath' 'abbi']\n",
      "\n",
      "Sample TF-IDF Features:\n",
      "['aa' 'aaaaaaaaah' 'aaaaaas' 'aaar' 'aab' 'aack' 'aad' 'aada' 'aadi'\n",
      " 'aafar' 'aak' 'aale' 'aalle' 'aame' 'aan' 'aanapali' 'aanen' 'aanzo'\n",
      " 'aartent' 'aas' 'aash' 'aastricht' 'aatalii' 'ab' 'aba' 'abaa' 'aback'\n",
      " 'abah' 'abak' 'abal' 'aban' 'abana' 'abandon' 'abandoned' 'abandoning'\n",
      " 'abandonment' 'abanga' 'abari' 'abarrus' 'abasco' 'abat' 'abata' 'abate'\n",
      " 'abaya' 'abba' 'abbage' 'abbana' 'abbanas' 'abbath' 'abbi']\n"
     ]
    }
   ],
   "source": [
    "# Vectorization\n",
    "# Bag of Words (BoW)\n",
    "bow_vectorizer = CountVectorizer()\n",
    "X_bow = bow_vectorizer.fit_transform(df['cleaned_description'])\n",
    "\n",
    "# TF-IDF\n",
    "tfidf_vectorizer = TfidfVectorizer()\n",
    "X_tfidf = tfidf_vectorizer.fit_transform(df['cleaned_description'])\n",
    "\n",
    "print(\"\\nBoW Matrix Shape:\", X_bow.shape)\n",
    "print(\"\\nTF-IDF Matrix Shape:\", X_tfidf.shape)\n",
    "\n",
    "# Preview sample BoW features\n",
    "print(\"\\nSample BoW Features:\")\n",
    "print(bow_vectorizer.get_feature_names_out()[:50])\n",
    "\n",
    "# Preview sample TF-IDF features\n",
    "print(\"\\nSample TF-IDF Features:\")\n",
    "print(tfidf_vectorizer.get_feature_names_out()[:50])"
   ]
  },
  {
   "cell_type": "code",
   "execution_count": 15,
   "id": "1166835f-c3c5-4f43-9587-483c63b63320",
   "metadata": {},
   "outputs": [
    {
     "data": {
      "text/html": [
       "<div>\n",
       "<style scoped>\n",
       "    .dataframe tbody tr th:only-of-type {\n",
       "        vertical-align: middle;\n",
       "    }\n",
       "\n",
       "    .dataframe tbody tr th {\n",
       "        vertical-align: top;\n",
       "    }\n",
       "\n",
       "    .dataframe thead th {\n",
       "        text-align: right;\n",
       "    }\n",
       "</style>\n",
       "<table border=\"1\" class=\"dataframe\">\n",
       "  <thead>\n",
       "    <tr style=\"text-align: right;\">\n",
       "      <th></th>\n",
       "      <th>word2vec_embedding</th>\n",
       "    </tr>\n",
       "  </thead>\n",
       "  <tbody>\n",
       "    <tr>\n",
       "      <th>0</th>\n",
       "      <td>[-0.04063969, 0.27922925, 0.0032164939, 0.2850...</td>\n",
       "    </tr>\n",
       "    <tr>\n",
       "      <th>1</th>\n",
       "      <td>[-0.35209125, 0.27746814, 0.12547766, 0.516446...</td>\n",
       "    </tr>\n",
       "    <tr>\n",
       "      <th>2</th>\n",
       "      <td>[-0.08717736, 0.27452058, -0.01486829, 0.38206...</td>\n",
       "    </tr>\n",
       "    <tr>\n",
       "      <th>3</th>\n",
       "      <td>[-0.515105, 0.21481292, 0.41575432, 0.6937273,...</td>\n",
       "    </tr>\n",
       "    <tr>\n",
       "      <th>4</th>\n",
       "      <td>[-0.28654578, 0.1658239, 0.13825366, 0.3852853...</td>\n",
       "    </tr>\n",
       "  </tbody>\n",
       "</table>\n",
       "</div>"
      ],
      "text/plain": [
       "                                  word2vec_embedding\n",
       "0  [-0.04063969, 0.27922925, 0.0032164939, 0.2850...\n",
       "1  [-0.35209125, 0.27746814, 0.12547766, 0.516446...\n",
       "2  [-0.08717736, 0.27452058, -0.01486829, 0.38206...\n",
       "3  [-0.515105, 0.21481292, 0.41575432, 0.6937273,...\n",
       "4  [-0.28654578, 0.1658239, 0.13825366, 0.3852853..."
      ]
     },
     "execution_count": 15,
     "metadata": {},
     "output_type": "execute_result"
    }
   ],
   "source": [
    "# Tokenize reviews for Word2Vec\n",
    "df['tokenized_description'] = df['cleaned_description'].apply(lambda x: word_tokenize(str(x).lower()))\n",
    "\n",
    "# Train Word2Vec model\n",
    "word2vec_model = Word2Vec(sentences=df['tokenized_description'], vector_size=100, window=5, min_count=2, workers=4)\n",
    "\n",
    "# Function to get review embeddings by averaging word vectors\n",
    "def get_word2vec_embedding(tokens, model):\n",
    "    vectors = [model.wv[word] for word in tokens if word in model.wv]\n",
    "    return sum(vectors) / len(vectors) if vectors else [0] * 100 # Handling empty tokens\n",
    "\n",
    "# Apply function to get Word2Vec embeddings\n",
    "df['word2vec_embedding'] = df['tokenized_description'].apply(lambda x: get_word2vec_embedding(x, word2vec_model))\n",
    "\n",
    "# Show first few embeddings\n",
    "df[['word2vec_embedding']].head()"
   ]
  },
  {
   "cell_type": "markdown",
   "id": "d66fc46f-9dfa-4b63-8b1e-e46e7b0817b3",
   "metadata": {},
   "source": [
    "● Perform exploratory data analysis (EDA) to understand the distribution of different categories."
   ]
  },
  {
   "cell_type": "code",
   "execution_count": 17,
   "id": "70110397-d389-49b2-92b4-58c89253ddc6",
   "metadata": {},
   "outputs": [],
   "source": [
    "from sklearn.preprocessing import LabelEncoder\n",
    "\n",
    "le = LabelEncoder()\n",
    "category_encoded = le.fit_transform(df['category'])\n",
    "df['category_encoded'] = category_encoded"
   ]
  },
  {
   "cell_type": "markdown",
   "id": "6bfe4906-4f2c-4d67-9a44-d88549fb5a3b",
   "metadata": {},
   "source": [
    "# 3. Model Development and Training\n",
    "\n",
    "\n",
    "● Build classification models using algorithms like Logistic Regression, Naive Bayes, Support Vector Machines (SVM).\n",
    "\n",
    "● Train the models on the preprocessed text data, tuning hyperparameters as necessary.\n",
    "● Use cross-validation to ensure robust evaluation of model performance.\n",
    "\n",
    "    \n",
    "# 4. Model Evaluation\n",
    "\n",
    "● Evaluate the models using appropriate metrics.\n",
    "● Compare the performance of different models and select the best one for\n",
    "classification.\n",
    "\n",
    "\n"
   ]
  },
  {
   "cell_type": "code",
   "execution_count": 19,
   "id": "44ad8c54-2260-4570-b3fb-2b2d9084bb06",
   "metadata": {},
   "outputs": [
    {
     "name": "stdout",
     "output_type": "stream",
     "text": [
      "Data prepared successfully!\n"
     ]
    }
   ],
   "source": [
    "from sklearn.model_selection import train_test_split\n",
    "from sklearn.naive_bayes import MultinomialNB\n",
    "from sklearn.linear_model import LogisticRegression\n",
    "from sklearn.svm import SVC\n",
    "from sklearn.ensemble import RandomForestClassifier\n",
    "from sklearn.metrics import accuracy_score, f1_score, roc_auc_score, classification_report, confusion_matrix\n",
    "\n",
    "# TF-IDF Vectorization\n",
    "vectorizer = TfidfVectorizer(max_features=5000)  # Limiting to 5000 features\n",
    "df['combined_text'] = df['cleaned_description'].astype(str) + ' ' + df['cleaned_keywords'].astype(str) + ' ' +df['cleaned_headline'].astype(str)\n",
    "X = vectorizer.fit_transform(df['combined_text'])\n",
    "y = df['category_encoded']\n",
    "\n",
    "# Splitting data into training (80%) and testing (20%) sets\n",
    "X_train, X_test, y_train, y_test = train_test_split(X, y, test_size=0.2, random_state=42)\n",
    "print(\"Data prepared successfully!\")"
   ]
  },
  {
   "cell_type": "code",
   "execution_count": 20,
   "id": "86fef0d7-42d8-4fab-87dd-bf0ec6ba2e5b",
   "metadata": {},
   "outputs": [
    {
     "name": "stdout",
     "output_type": "stream",
     "text": [
      "Naive Bayes Performance:\n",
      "Accuracy: 0.7693\n",
      "F1-score_micro: 0.7693\n",
      "              precision    recall  f1-score   support\n",
      "\n",
      "           0       0.69      0.71      0.70       955\n",
      "           1       0.77      0.73      0.75       985\n",
      "           2       0.83      0.83      0.83      1021\n",
      "           3       0.68      0.76      0.72      1030\n",
      "           4       0.78      0.71      0.74      1034\n",
      "           5       0.84      0.83      0.83       995\n",
      "           6       0.84      0.81      0.83       986\n",
      "           7       0.78      0.79      0.79      1008\n",
      "           8       0.72      0.74      0.73      1009\n",
      "           9       0.76      0.78      0.77       977\n",
      "\n",
      "    accuracy                           0.77     10000\n",
      "   macro avg       0.77      0.77      0.77     10000\n",
      "weighted avg       0.77      0.77      0.77     10000\n",
      "\n"
     ]
    }
   ],
   "source": [
    "nb_model = MultinomialNB()\n",
    "nb_model.fit(X_train, y_train)\n",
    "y_pred_nb = nb_model.predict(X_test)\n",
    "\n",
    "# Evaluate Model\n",
    "print(\"Naive Bayes Performance:\")\n",
    "print(\"Accuracy:\", accuracy_score(y_test, y_pred_nb))\n",
    "print(\"F1-score_micro:\", f1_score(y_test, y_pred_nb, average='micro'))\n",
    "print(classification_report(y_test, y_pred_nb))"
   ]
  },
  {
   "cell_type": "code",
   "execution_count": 21,
   "id": "25d9cda8-3d12-4d7e-8c36-f13763043507",
   "metadata": {},
   "outputs": [
    {
     "name": "stdout",
     "output_type": "stream",
     "text": [
      "Logistic Regression Performance:\n",
      "Accuracy: 0.7833\n",
      "F1-score: 0.7833\n",
      "              precision    recall  f1-score   support\n",
      "\n",
      "           0       0.70      0.78      0.74       955\n",
      "           1       0.78      0.74      0.76       985\n",
      "           2       0.85      0.81      0.83      1021\n",
      "           3       0.76      0.77      0.76      1030\n",
      "           4       0.78      0.71      0.75      1034\n",
      "           5       0.83      0.88      0.85       995\n",
      "           6       0.86      0.83      0.84       986\n",
      "           7       0.79      0.78      0.79      1008\n",
      "           8       0.74      0.76      0.75      1009\n",
      "           9       0.76      0.77      0.76       977\n",
      "\n",
      "    accuracy                           0.78     10000\n",
      "   macro avg       0.78      0.78      0.78     10000\n",
      "weighted avg       0.78      0.78      0.78     10000\n",
      "\n"
     ]
    }
   ],
   "source": [
    "lr_model = LogisticRegression(max_iter=200)\n",
    "lr_model.fit(X_train, y_train)\n",
    "y_pred_lr = lr_model.predict(X_test)\n",
    "\n",
    "# Evaluate Model\n",
    "print(\"Logistic Regression Performance:\")\n",
    "print(\"Accuracy:\", accuracy_score(y_test, y_pred_lr))\n",
    "print(\"F1-score:\", f1_score(y_test, y_pred_lr, average='micro'))\n",
    "print(classification_report(y_test, y_pred_lr))"
   ]
  },
  {
   "cell_type": "code",
   "execution_count": 22,
   "id": "8e12a356-d440-4559-8929-9fd2dd59c2bd",
   "metadata": {},
   "outputs": [
    {
     "name": "stdout",
     "output_type": "stream",
     "text": [
      "Random Forest Performance:\n",
      "Accuracy: 0.7189\n",
      "F1-score: 0.7189\n",
      "              precision    recall  f1-score   support\n",
      "\n",
      "           0       0.75      0.80      0.77       955\n",
      "           1       0.64      0.64      0.64       985\n",
      "           2       0.74      0.77      0.75      1021\n",
      "           3       0.72      0.77      0.75      1030\n",
      "           4       0.75      0.59      0.66      1034\n",
      "           5       0.79      0.89      0.83       995\n",
      "           6       0.79      0.72      0.76       986\n",
      "           7       0.74      0.64      0.69      1008\n",
      "           8       0.61      0.70      0.65      1009\n",
      "           9       0.69      0.66      0.68       977\n",
      "\n",
      "    accuracy                           0.72     10000\n",
      "   macro avg       0.72      0.72      0.72     10000\n",
      "weighted avg       0.72      0.72      0.72     10000\n",
      "\n"
     ]
    }
   ],
   "source": [
    "rf_model = RandomForestClassifier(n_estimators=100)\n",
    "rf_model.fit(X_train, y_train)\n",
    "y_pred_rf = rf_model.predict(X_test)\n",
    "\n",
    "# Evaluate Model\n",
    "print(\"Random Forest Performance:\")\n",
    "print(\"Accuracy:\", accuracy_score(y_test, y_pred_rf))\n",
    "print(\"F1-score:\", f1_score(y_test, y_pred_rf, average='micro'))\n",
    "print(classification_report(y_test, y_pred_rf))"
   ]
  },
  {
   "cell_type": "code",
   "execution_count": 23,
   "id": "4eee7fbc-3dc3-420a-ac56-ea081de810d0",
   "metadata": {},
   "outputs": [
    {
     "name": "stdout",
     "output_type": "stream",
     "text": [
      "SVM Performance:\n",
      "Accuracy: 0.7805\n",
      "F1-score: 0.7805\n",
      "              precision    recall  f1-score   support\n",
      "\n",
      "           0       0.72      0.80      0.76       955\n",
      "           1       0.79      0.73      0.75       985\n",
      "           2       0.83      0.81      0.82      1021\n",
      "           3       0.75      0.74      0.75      1030\n",
      "           4       0.78      0.70      0.74      1034\n",
      "           5       0.84      0.91      0.88       995\n",
      "           6       0.83      0.84      0.83       986\n",
      "           7       0.78      0.78      0.78      1008\n",
      "           8       0.73      0.74      0.74      1009\n",
      "           9       0.75      0.77      0.76       977\n",
      "\n",
      "    accuracy                           0.78     10000\n",
      "   macro avg       0.78      0.78      0.78     10000\n",
      "weighted avg       0.78      0.78      0.78     10000\n",
      "\n"
     ]
    }
   ],
   "source": [
    "from sklearn.svm import LinearSVC\n",
    "svm_model = LinearSVC(max_iter=10000)\n",
    "svm_model.fit(X_train, y_train)\n",
    "y_pred_svm = svm_model.predict(X_test)\n",
    "\n",
    "# Evaluate Model\n",
    "print(\"SVM Performance:\")\n",
    "print(\"Accuracy:\", accuracy_score(y_test, y_pred_svm))\n",
    "print(\"F1-score:\", f1_score(y_test, y_pred_svm, average='micro'))\n",
    "print(classification_report(y_test, y_pred_svm))"
   ]
  },
  {
   "cell_type": "code",
   "execution_count": 25,
   "id": "b067dbf4-2f5d-4323-93a7-aac31fb60937",
   "metadata": {},
   "outputs": [
    {
     "name": "stdout",
     "output_type": "stream",
     "text": [
      "                 Model  Accuracy  F1-score\n",
      "0          Naive Bayes    0.7693    0.7693\n",
      "1  Logistic Regression    0.7833    0.7833\n",
      "2                  SVM    0.7805    0.7805\n",
      "3        Random Forest    0.7189    0.7189\n"
     ]
    },
    {
     "data": {
      "image/png": "[encoded data removed]",
      "text/plain": [
       "<Figure size 640x480 with 1 Axes>"
      ]
     },
     "metadata": {},
     "output_type": "display_data"
    }
   ],
   "source": [
    "# Collect results\n",
    "model_results = pd.DataFrame({\n",
    "    \"Model\": [\"Naive Bayes\", \"Logistic Regression\", \"SVM\", \"Random Forest\"],\n",
    "    \"Accuracy\": [accuracy_score(y_test, y_pred_nb), accuracy_score(y_test, y_pred_lr), accuracy_score(y_test, y_pred_svm), accuracy_score(y_test, y_pred_rf)],\n",
    "    \"F1-score\": [f1_score(y_test, y_pred_nb, average='micro'), f1_score(y_test, y_pred_lr, average='micro'), f1_score(y_test, y_pred_svm, average='micro'), f1_score(y_test, y_pred_rf, average='micro')], \n",
    "})\n",
    "\n",
    "# Display results\n",
    "print(model_results)\n",
    "\n",
    "# Plot results\n",
    "sns.barplot(x=\"Model\", y=\"Accuracy\", data=model_results)\n",
    "plt.title(\"Model Comparison - Accuracy\")\n",
    "plt.show()"
   ]
  },
  {
   "cell_type": "code",
   "execution_count": 27,
   "id": "7f09abde-8b22-4e61-9a35-c260c658b8a3",
   "metadata": {},
   "outputs": [
    {
     "data": {
      "image/png": "[encoded data removed]",
      "text/plain": [
       "<Figure size 640x480 with 2 Axes>"
      ]
     },
     "metadata": {},
     "output_type": "display_data"
    }
   ],
   "source": [
    "# Choose the best model\n",
    "best_model = svm_model\n",
    "y_pred_best = y_pred_svm\n",
    "\n",
    "# Confusion Matrix\n",
    "conf_matrix = confusion_matrix(y_test, y_pred_best)\n",
    "conf_matrix = confusion_matrix(y_test, y_pred_best)\n",
    "sns.heatmap(conf_matrix, annot=True, fmt='d', cmap='Blues')\n",
    "plt.xlabel(\"Predicted\")\n",
    "plt.ylabel(\"Actual\")\n",
    "plt.title(\"Confusion Matrix - Best Model\")\n",
    "plt.show()"
   ]
  },
  {
   "cell_type": "markdown",
   "id": "3a7af3d6-60ae-438f-8e77-e97735e739fa",
   "metadata": {},
   "source": [
    "5. Final Report and Presentation"
   ]
  },
  {
   "cell_type": "markdown",
   "id": "cbd98a59-ec25-4d06-b3bd-cff9c27dfc75",
   "metadata": {},
   "source": [
    "# News Article Classification   - Final Report\n",
    "\n",
    "## 1. Introduction\n",
    "This project aims to analyze News Article Classification  and classify them based on different categories using **machine learning models**. The goal is to extract meaningful insights from textual data and develop a robust classification model.\n",
    "\n",
    "## 2. Data Exploration and Preprocessing\n",
    "- Loaded the News Article Classification.\n",
    "- Performed **data cleaning**:\n",
    "  - Removed missing values.\n",
    "  - Converted text to lowercase.\n",
    "  - Removed special characters, stopwords, and punctuation.\n",
    "  - Used **lemmatization** to normalize words.\n",
    "\n",
    "## 3. Feature Engineering\n",
    "- **TF-IDF (Term Frequency-Inverse Document Frequency)**: Converted text into numerical vectors.\n",
    "- **Word2Vec**: Generated word embeddings to capture semantic meaning.\n",
    "- **Other textual features**: Word count, character count, and average word length.\n",
    "\n",
    "## 4. Model Development\n",
    "- Built and trained multiple classification models:\n",
    "  - **Logistic Regression**\n",
    "  - **Naive Bayes**\n",
    "  - **Support Vector Machine (SVM)**\n",
    "  - **Random Forest**\n",
    "\n",
    "## 5. Model Evaluation\n",
    "- Evaluated models using:\n",
    "  - **Accuracy**\n",
    "  - **F1-Score**\n",
    "- Visualized results using:\n",
    "  - **Confusion matrix** of best model\n",
    "  - **Vertical column (bar) graph** of sentiment distribution\n",
    "  - **Bar chart** of Model Comparison - Accuracy\n",
    "\n",
    "## 6. Key Insights and Success Criteria Evaluation\n",
    "- **Achieved good model performance** based on Accuracy and F1-score.\n",
    "- Identified factors influencing sentiment, such as **word frequency**.\n",
    "- Presented results with clear **visualizations** (confusion matrices, bar charts).\n",
    "\n",
    "## 7. Conclusion\n",
    "This project successfully analyzed News Article Classification using **NLP techniques** and **machine learning models**. The best-performing model was selected based on evaluation metrics. The findings provide valuable insights into News Article Classification\n",
    "\n",
    "---\n",
    "\n",
    "### ✅ **Project Success Criteria Met**\n",
    "✔ **Model performance:** Achieved acceptable Accuracy, F1-score.  \n",
    "✔ **Insights extracted:** Word frequency, review length, and sentiment trends identified.  \n",
    "✔ **Predictions:** The model can predict new News Article Classification accurately.  "
   ]
  },
  {
   "cell_type": "markdown",
   "id": "ef9770d2-2554-4b61-bd51-9358ad9b0911",
   "metadata": {},
   "source": [
    "## Presentation\n",
    "A **video presentation** summarizing the key findings and methodology has been created.\n",
    "\n",
    "https://drive.google.com/file/d/1DqPLxO9PV1UASzAy9ZXoQyb0_wsU8jri/view?usp=drive_link"
   ]
  },
  {
   "cell_type": "code",
   "execution_count": null,
   "id": "ffb27337-6ab2-4b0d-bcab-e1d8fdc5dff5",
   "metadata": {},
   "outputs": [],
   "source": []
  }
 ],
 "metadata": {
  "kernelspec": {
   "display_name": "Python [conda env:base] *",
   "language": "python",
   "name": "conda-base-py"
  },
  "language_info": {
   "codemirror_mode": {
    "name": "ipython",
    "version": 3
   },
   "file_extension": ".py",
   "mimetype": "text/x-python",
   "name": "python",
   "nbconvert_exporter": "python",
   "pygments_lexer": "ipython3",
   "version": "3.12.7"
  }
 },
 "nbformat": 4,
 "nbformat_minor": 5
}
